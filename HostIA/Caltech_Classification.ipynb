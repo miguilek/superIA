{
  "cells": [
    {
      "cell_type": "code",
      "execution_count": 5,
      "metadata": {
        "colab": {},
        "colab_type": "code",
        "gather": {
          "logged": 1635488984796
        },
        "id": "tbl4oQOSS4X6"
      },
      "outputs": [],
      "source": [
        "import numpy as np\n",
        "import math\n",
        "from typing import List\n",
        "import os\n",
        "import argparse\n",
        "import glob\n",
        "import shutil\n",
        "from torchvision import transforms\n",
        "import torchvision.datasets as datasets\n",
        "import torch.utils.data as loader\n",
        "from torchvision import models\n",
        "import torch\n",
        "import torch.nn as nn\n",
        "import time\n",
        "import torch.optim as optim\n",
        "from PIL import Image\n",
        "import requests\n",
        "import matplotlib.pyplot as plt"
      ]
    },
    {
      "cell_type": "code",
      "execution_count": 18,
      "metadata": {
        "colab": {},
        "colab_type": "code",
        "id": "k4N2CCybaPec"
      },
      "outputs": [],
      "source": [
        "image_transforms = {\n",
        "    # 'train': transforms.Compose([\n",
        "    #           transforms.RandomResizedCrop(size=256, scale=(0.8, 1.0)),\n",
        "    #           transforms.RandomRotation(degrees=15),\n",
        "    #           transforms.RandomHorizontalFlip(),\n",
        "    #           transforms.CenterCrop(size=224),\n",
        "    #           transforms.ToTensor(),\n",
        "    #           transforms.Normalize([0.485, 0.456, 0.406],[0.229, 0.224, 0.225])\n",
        "    # ]),\n",
        "    # 'validation': transforms.Compose([\n",
        "    #          transforms.Resize(size=256),\n",
        "    #          transforms.CenterCrop(size=224),\n",
        "    #          transforms.ToTensor(),\n",
        "    #          transforms.Normalize([0.485, 0.456, 0.406],[0.229, 0.224, 0.225])              \n",
        "    # ]),\n",
        "    'test': transforms.Compose([\n",
        "             transforms.Resize(size=256),\n",
        "             transforms.CenterCrop(size=224),\n",
        "             transforms.ToTensor(),\n",
        "             transforms.Normalize([0.485, 0.456, 0.406],[0.229, 0.224, 0.225])              \n",
        "    ])\n",
        "}"
      ]
    },
    {
      "cell_type": "code",
      "execution_count": 28,
      "metadata": {
        "colab": {},
        "colab_type": "code",
        "id": "71mlSEeFhjOs"
      },
      "outputs": [],
      "source": [
        "# Create iterator for the data loader using DataLoader module\n",
        "\n",
        "batch_size = 10\n",
        "\n",
        "data = {\n",
        "    # 'train': datasets.ImageFolder(root='./101_ObjectCategories_sets/train', transform=image_transforms['train']),\n",
        "    # 'validation': datasets.ImageFolder(root='./101_ObjectCategories_sets/validation',transform=image_transforms['validation']),\n",
        "    'test': datasets.ImageFolder(root='./101_ObjectCategories_sets/test', transform=image_transforms['test'])\n",
        "}"
      ]
    },
    {
      "cell_type": "code",
      "execution_count": 22,
      "metadata": {
        "colab": {
          "base_uri": "https://localhost:8080/",
          "height": 697
        },
        "colab_type": "code",
        "id": "CIN4bgHi0Cfz",
        "outputId": "8d211286-876a-4fb0-b756-b17520c5dce4"
      },
      "outputs": [
        {
          "data": {
            "text/plain": [
              "<All keys matched successfully>"
            ]
          },
          "execution_count": 22,
          "metadata": {},
          "output_type": "execute_result"
        }
      ],
      "source": [
        "model = models.resnet50(pretrained=False)\n",
        "fc_inputs = model.fc.in_features\n",
        "\n",
        "model.fc = nn.Sequential(\n",
        "    nn.Linear(fc_inputs, 2048),\n",
        "    nn.ReLU(inplace=True),\n",
        "    nn.Linear(2048, 10),\n",
        "    nn.Dropout(0.4),\n",
        "    nn.LogSoftmax(dim=1))\n",
        "\n",
        "if(torch.cuda.is_available()):\n",
        "    model = model.to(\"cuda\")\n",
        "model.load_state_dict(torch.load('model_0.pth'))"
      ]
    },
    {
      "cell_type": "code",
      "execution_count": 23,
      "metadata": {
        "colab": {
          "base_uri": "https://localhost:8080/",
          "height": 34
        },
        "colab_type": "code",
        "id": "0bNIbONSPE83",
        "outputId": "0ee0d710-72c2-4644-e25a-46b4e1a0a4be"
      },
      "outputs": [
        {
          "name": "stdout",
          "output_type": "stream",
          "text": [
            "{0: 'Leopards', 1: 'airplanes', 2: 'butterfly', 3: 'camera', 4: 'elephant', 5: 'lamp', 6: 'rhino', 7: 'umbrella', 8: 'watch'}\n"
          ]
        }
      ],
      "source": [
        "index_to_class = {v: k for k, v in data['test'].class_to_idx.items()}\n",
        "print (index_to_class)\n",
        "\n",
        "def makePrediction(model, url):\n",
        "    device = torch.device(\"cuda\" if torch.cuda.is_available() else \"cpu\")\n",
        "    transform = image_transforms['test']\n",
        "\n",
        "    # test_image = Image.open(requests.get(url, stream=True).raw)\n",
        "    test_image = Image.open(url)\n",
        "\n",
        "    plt.imshow(test_image)\n",
        "    \n",
        "    test_image_tensor = transform(test_image)\n",
        "    test_image_tensor = test_image_tensor.view(1, 3, 224, 224).to(device)\n",
        "    with torch.no_grad():\n",
        "        model.eval()\n",
        "        out = model(test_image_tensor)\n",
        "        ps = torch.exp(out)\n",
        "        \n",
        "        topk, topclass = ps.topk(3, dim=1)\n",
        "        for i in range(3):\n",
        "            print(f\"Prediction {i+1} : {index_to_class[topclass.cpu().numpy()[0][i]]}, Score: {topk.cpu().numpy()[0][i] * 100}%\")"
      ]
    },
    {
      "cell_type": "code",
      "execution_count": 3,
      "metadata": {
        "colab": {
          "base_uri": "https://localhost:8080/",
          "height": 320
        },
        "colab_type": "code",
        "id": "omArXqDzPRj5",
        "outputId": "39463908-b2e0-4d03-ef49-84d5474b897f"
      },
      "outputs": [
        {
          "ename": "NameError",
          "evalue": "name 'makePrediction' is not defined",
          "output_type": "error",
          "traceback": [
            "\u001b[1;31m---------------------------------------------------------------------------\u001b[0m",
            "\u001b[1;31mNameError\u001b[0m                                 Traceback (most recent call last)",
            "\u001b[1;32m<ipython-input-3-836a71acda42>\u001b[0m in \u001b[0;36m<module>\u001b[1;34m\u001b[0m\n\u001b[1;32m----> 1\u001b[1;33m \u001b[0mmakePrediction\u001b[0m\u001b[1;33m(\u001b[0m\u001b[0mmodel\u001b[0m\u001b[1;33m,\u001b[0m \u001b[1;34m'./image_0012.jpg'\u001b[0m\u001b[1;33m)\u001b[0m\u001b[1;33m\u001b[0m\u001b[1;33m\u001b[0m\u001b[0m\n\u001b[0m",
            "\u001b[1;31mNameError\u001b[0m: name 'makePrediction' is not defined"
          ]
        }
      ],
      "source": [
        "makePrediction(model, './image_0012.jpg')\n"
      ]
    },
    {
      "cell_type": "code",
      "execution_count": 1,
      "metadata": {
        "colab": {
          "base_uri": "https://localhost:8080/",
          "height": 291
        },
        "colab_type": "code",
        "id": "8g9LwgaZROxU",
        "outputId": "7f453e14-b265-455e-ab44-f31d064937a5"
      },
      "outputs": [
        {
          "ename": "NameError",
          "evalue": "name 'makePrediction' is not defined",
          "output_type": "error",
          "traceback": [
            "\u001b[1;31m---------------------------------------------------------------------------\u001b[0m",
            "\u001b[1;31mNameError\u001b[0m                                 Traceback (most recent call last)",
            "\u001b[1;32m<ipython-input-1-b3c92005a060>\u001b[0m in \u001b[0;36m<module>\u001b[1;34m\u001b[0m\n\u001b[1;32m----> 1\u001b[1;33m \u001b[0mmakePrediction\u001b[0m\u001b[1;33m(\u001b[0m\u001b[0mmodel\u001b[0m\u001b[1;33m,\u001b[0m \u001b[1;34m'./myWatch.jpg'\u001b[0m\u001b[1;33m)\u001b[0m\u001b[1;33m\u001b[0m\u001b[1;33m\u001b[0m\u001b[0m\n\u001b[0m",
            "\u001b[1;31mNameError\u001b[0m: name 'makePrediction' is not defined"
          ]
        }
      ],
      "source": [
        "makePrediction(model, './myWatch.jpg')"
      ]
    }
  ],
  "metadata": {
    "accelerator": "GPU",
    "colab": {
      "collapsed_sections": [],
      "name": "Caltech Classification.ipynb",
      "provenance": [],
      "toc_visible": true
    },
    "kernel_info": {
      "name": "azureml_py38_pytorch"
    },
    "kernelspec": {
      "display_name": "Python 3.9.5 ('fastai')",
      "language": "python",
      "name": "python3"
    },
    "language_info": {
      "codemirror_mode": {
        "name": "ipython",
        "version": 3
      },
      "file_extension": ".py",
      "mimetype": "text/x-python",
      "name": "python",
      "nbconvert_exporter": "python",
      "pygments_lexer": "ipython3",
      "version": "3.9.5"
    },
    "nteract": {
      "version": "nteract-front-end@1.0.0"
    },
    "vscode": {
      "interpreter": {
        "hash": "b21495e7f47cb601383faa5681a34af1ff9973cc8c41fd92172e69140f351903"
      }
    },
    "widgets": {
      "application/vnd.jupyter.widget-state+json": {
        "084fcc15cd304b8a82cf833e2d3c7cd6": {
          "model_module": "@jupyter-widgets/controls",
          "model_name": "DescriptionStyleModel",
          "state": {
            "_model_module": "@jupyter-widgets/controls",
            "_model_module_version": "1.5.0",
            "_model_name": "DescriptionStyleModel",
            "_view_count": null,
            "_view_module": "@jupyter-widgets/base",
            "_view_module_version": "1.2.0",
            "_view_name": "StyleView",
            "description_width": ""
          }
        },
        "29073bdc982e4a2699eb361d28c9b7ca": {
          "model_module": "@jupyter-widgets/base",
          "model_name": "LayoutModel",
          "state": {
            "_model_module": "@jupyter-widgets/base",
            "_model_module_version": "1.2.0",
            "_model_name": "LayoutModel",
            "_view_count": null,
            "_view_module": "@jupyter-widgets/base",
            "_view_module_version": "1.2.0",
            "_view_name": "LayoutView",
            "align_content": null,
            "align_items": null,
            "align_self": null,
            "border": null,
            "bottom": null,
            "display": null,
            "flex": null,
            "flex_flow": null,
            "grid_area": null,
            "grid_auto_columns": null,
            "grid_auto_flow": null,
            "grid_auto_rows": null,
            "grid_column": null,
            "grid_gap": null,
            "grid_row": null,
            "grid_template_areas": null,
            "grid_template_columns": null,
            "grid_template_rows": null,
            "height": null,
            "justify_content": null,
            "justify_items": null,
            "left": null,
            "margin": null,
            "max_height": null,
            "max_width": null,
            "min_height": null,
            "min_width": null,
            "object_fit": null,
            "object_position": null,
            "order": null,
            "overflow": null,
            "overflow_x": null,
            "overflow_y": null,
            "padding": null,
            "right": null,
            "top": null,
            "visibility": null,
            "width": null
          }
        },
        "62bca123cb02407d92769f4a5604412d": {
          "model_module": "@jupyter-widgets/controls",
          "model_name": "ProgressStyleModel",
          "state": {
            "_model_module": "@jupyter-widgets/controls",
            "_model_module_version": "1.5.0",
            "_model_name": "ProgressStyleModel",
            "_view_count": null,
            "_view_module": "@jupyter-widgets/base",
            "_view_module_version": "1.2.0",
            "_view_name": "StyleView",
            "bar_color": null,
            "description_width": "initial"
          }
        },
        "7f2d74ea651a4573aa2019890c116fef": {
          "model_module": "@jupyter-widgets/controls",
          "model_name": "IntProgressModel",
          "state": {
            "_dom_classes": [],
            "_model_module": "@jupyter-widgets/controls",
            "_model_module_version": "1.5.0",
            "_model_name": "IntProgressModel",
            "_view_count": null,
            "_view_module": "@jupyter-widgets/controls",
            "_view_module_version": "1.5.0",
            "_view_name": "ProgressView",
            "bar_style": "success",
            "description": "100%",
            "description_tooltip": null,
            "layout": "IPY_MODEL_e25f4e9b10454f428aeea346575e294a",
            "max": 102502400,
            "min": 0,
            "orientation": "horizontal",
            "style": "IPY_MODEL_62bca123cb02407d92769f4a5604412d",
            "value": 102502400
          }
        },
        "800dc2c55a0943d9be60ec47dd790430": {
          "model_module": "@jupyter-widgets/base",
          "model_name": "LayoutModel",
          "state": {
            "_model_module": "@jupyter-widgets/base",
            "_model_module_version": "1.2.0",
            "_model_name": "LayoutModel",
            "_view_count": null,
            "_view_module": "@jupyter-widgets/base",
            "_view_module_version": "1.2.0",
            "_view_name": "LayoutView",
            "align_content": null,
            "align_items": null,
            "align_self": null,
            "border": null,
            "bottom": null,
            "display": null,
            "flex": null,
            "flex_flow": null,
            "grid_area": null,
            "grid_auto_columns": null,
            "grid_auto_flow": null,
            "grid_auto_rows": null,
            "grid_column": null,
            "grid_gap": null,
            "grid_row": null,
            "grid_template_areas": null,
            "grid_template_columns": null,
            "grid_template_rows": null,
            "height": null,
            "justify_content": null,
            "justify_items": null,
            "left": null,
            "margin": null,
            "max_height": null,
            "max_width": null,
            "min_height": null,
            "min_width": null,
            "object_fit": null,
            "object_position": null,
            "order": null,
            "overflow": null,
            "overflow_x": null,
            "overflow_y": null,
            "padding": null,
            "right": null,
            "top": null,
            "visibility": null,
            "width": null
          }
        },
        "cbc8a6d954bf4f4b9461585f0c9d5570": {
          "model_module": "@jupyter-widgets/controls",
          "model_name": "HBoxModel",
          "state": {
            "_dom_classes": [],
            "_model_module": "@jupyter-widgets/controls",
            "_model_module_version": "1.5.0",
            "_model_name": "HBoxModel",
            "_view_count": null,
            "_view_module": "@jupyter-widgets/controls",
            "_view_module_version": "1.5.0",
            "_view_name": "HBoxView",
            "box_style": "",
            "children": [
              "IPY_MODEL_7f2d74ea651a4573aa2019890c116fef",
              "IPY_MODEL_e9d74361b60b45e0b422fd7684554f1b"
            ],
            "layout": "IPY_MODEL_29073bdc982e4a2699eb361d28c9b7ca"
          }
        },
        "e25f4e9b10454f428aeea346575e294a": {
          "model_module": "@jupyter-widgets/base",
          "model_name": "LayoutModel",
          "state": {
            "_model_module": "@jupyter-widgets/base",
            "_model_module_version": "1.2.0",
            "_model_name": "LayoutModel",
            "_view_count": null,
            "_view_module": "@jupyter-widgets/base",
            "_view_module_version": "1.2.0",
            "_view_name": "LayoutView",
            "align_content": null,
            "align_items": null,
            "align_self": null,
            "border": null,
            "bottom": null,
            "display": null,
            "flex": null,
            "flex_flow": null,
            "grid_area": null,
            "grid_auto_columns": null,
            "grid_auto_flow": null,
            "grid_auto_rows": null,
            "grid_column": null,
            "grid_gap": null,
            "grid_row": null,
            "grid_template_areas": null,
            "grid_template_columns": null,
            "grid_template_rows": null,
            "height": null,
            "justify_content": null,
            "justify_items": null,
            "left": null,
            "margin": null,
            "max_height": null,
            "max_width": null,
            "min_height": null,
            "min_width": null,
            "object_fit": null,
            "object_position": null,
            "order": null,
            "overflow": null,
            "overflow_x": null,
            "overflow_y": null,
            "padding": null,
            "right": null,
            "top": null,
            "visibility": null,
            "width": null
          }
        },
        "e9d74361b60b45e0b422fd7684554f1b": {
          "model_module": "@jupyter-widgets/controls",
          "model_name": "HTMLModel",
          "state": {
            "_dom_classes": [],
            "_model_module": "@jupyter-widgets/controls",
            "_model_module_version": "1.5.0",
            "_model_name": "HTMLModel",
            "_view_count": null,
            "_view_module": "@jupyter-widgets/controls",
            "_view_module_version": "1.5.0",
            "_view_name": "HTMLView",
            "description": "",
            "description_tooltip": null,
            "layout": "IPY_MODEL_800dc2c55a0943d9be60ec47dd790430",
            "placeholder": "​",
            "style": "IPY_MODEL_084fcc15cd304b8a82cf833e2d3c7cd6",
            "value": " 97.8M/97.8M [00:22&lt;00:00, 4.47MB/s]"
          }
        }
      }
    }
  },
  "nbformat": 4,
  "nbformat_minor": 4
}
